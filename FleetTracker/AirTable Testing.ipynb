{
 "cells": [
  {
   "cell_type": "code",
   "execution_count": 20,
   "metadata": {},
   "outputs": [],
   "source": [
    "from airtable import Airtable"
   ]
  },
  {
   "cell_type": "code",
   "execution_count": 31,
   "metadata": {},
   "outputs": [],
   "source": [
    "equipment = Airtable(base_key='appUv95IdpXpBkJ96',table_name='Equipment', api_key='keyVE2OTPcmyTURGm')\n",
    "maintenance = Airtable(base_key='appUv95IdpXpBkJ96',table_name='Maintenance', api_key='keyVE2OTPcmyTURGm')\n",
    "movement = Airtable(base_key='appUv95IdpXpBkJ96',table_name='Movement', api_key='keyVE2OTPcmyTURGm')"
   ]
  },
  {
   "cell_type": "code",
   "execution_count": 35,
   "metadata": {},
   "outputs": [],
   "source": [
    "def create_list(crew, equipment_type):\n",
    "    \"\"\" Populates list of unit numbers for users crew or admins selected crew. This is used to populate form choices \"\"\"\n",
    "    color_filter = equipment.search(\"Crew\", crew)\n",
    "    equipment_filter = list(filter(lambda e: e['fields']['Type'] == equipment_type, color_filter))\n",
    "\n",
    "    equipment_list = []\n",
    "    for unit in equipment_filter:\n",
    "        equipment_list.append((unit['fields']['UnitNumber'], unit['fields']['Standby'], unit['fields']['Station'], unit['fields']['Maintenance'], unit['fields']['Movement']))\n",
    "    return equipment_list"
   ]
  },
  {
   "cell_type": "code",
   "execution_count": 36,
   "metadata": {},
   "outputs": [
    {
     "data": {
      "text/plain": [
       "[('53Q-11530', 'False', 12, ['recBZ4ny0VlLUFvwS'], ['rec568qfNj7wLUUXE']),\n",
       " ('53Q-11672', 'False', 1, ['rec8QBXZZFysLQMjj'], ['rec568qfNj7wLUUXE']),\n",
       " ('53Q-11573', 'False', 17, ['recBZ4ny0VlLUFvwS'], ['rec568qfNj7wLUUXE']),\n",
       " ('53Q-07203', 'False', 14, ['recBZ4ny0VlLUFvwS'], ['rec568qfNj7wLUUXE']),\n",
       " ('53T-06114', 'True', 26, ['recBZ4ny0VlLUFvwS'], ['rec568qfNj7wLUUXE']),\n",
       " ('53Q-11574', 'False', 3, ['recBZ4ny0VlLUFvwS'], ['rec568qfNj7wLUUXE']),\n",
       " ('53Q-11565', 'False', 13, ['recBZ4ny0VlLUFvwS'], ['rec568qfNj7wLUUXE']),\n",
       " ('53Q-11669', 'False', 19, ['recBZ4ny0VlLUFvwS'], ['rec568qfNj7wLUUXE']),\n",
       " ('53Q-07208', 'False', 9, ['recBZ4ny0VlLUFvwS'], ['rec568qfNj7wLUUXE']),\n",
       " ('53Q-11454', 'False', 23, ['recBZ4ny0VlLUFvwS'], ['rec568qfNj7wLUUXE']),\n",
       " ('53Q-11670', 'False', 6, ['recBZ4ny0VlLUFvwS'], ['rec568qfNj7wLUUXE']),\n",
       " ('53Q-11422', 'False', 22, ['recBZ4ny0VlLUFvwS'], ['rec568qfNj7wLUUXE']),\n",
       " ('53Q-11475', 'False', 7, ['recBZ4ny0VlLUFvwS'], ['rec568qfNj7wLUUXE']),\n",
       " ('53Q-11468', 'False', 21, ['recBZ4ny0VlLUFvwS'], ['rec568qfNj7wLUUXE']),\n",
       " ('53Q-11497', 'False', 8, ['recBZ4ny0VlLUFvwS'], ['rec568qfNj7wLUUXE']),\n",
       " ('53Q-11582', 'False', 10, ['recBZ4ny0VlLUFvwS'], ['rec568qfNj7wLUUXE']),\n",
       " ('53Q-11576', 'False', 5, ['recBZ4ny0VlLUFvwS'], ['rec568qfNj7wLUUXE']),\n",
       " ('53Q-11471', 'False', 11, ['recBZ4ny0VlLUFvwS'], ['rec568qfNj7wLUUXE']),\n",
       " ('53Q-11578', 'False', 18, ['recBZ4ny0VlLUFvwS'], ['rec568qfNj7wLUUXE']),\n",
       " ('53Q-08330', 'True', 25, ['recBZ4ny0VlLUFvwS'], ['rec568qfNj7wLUUXE']),\n",
       " ('53Q-11424', 'False', 20, ['recBZ4ny0VlLUFvwS'], ['rec568qfNj7wLUUXE']),\n",
       " ('53Q-11571', 'False', 2, ['recBZ4ny0VlLUFvwS'], ['rec568qfNj7wLUUXE']),\n",
       " ('53Q-11673', 'False', 15, ['recBZ4ny0VlLUFvwS'], ['rec568qfNj7wLUUXE']),\n",
       " ('53Q-07204', 'False', 24, ['recBZ4ny0VlLUFvwS'], ['rec568qfNj7wLUUXE']),\n",
       " ('53Q-11451', 'False', 4, ['recBZ4ny0VlLUFvwS'], ['rec568qfNj7wLUUXE']),\n",
       " ('53Q-12680', 'False', 16, ['recBZ4ny0VlLUFvwS'], ['rec568qfNj7wLUUXE'])]"
      ]
     },
     "execution_count": 36,
     "metadata": {},
     "output_type": "execute_result"
    }
   ],
   "source": [
    "create_list('red', 'pump')"
   ]
  },
  {
   "cell_type": "raw",
   "metadata": {},
   "source": [
    "crews.get_all()"
   ]
  },
  {
   "cell_type": "code",
   "execution_count": 34,
   "metadata": {},
   "outputs": [
    {
     "data": {
      "text/plain": [
       "{'createdTime': '2018-10-11T21:52:18.000Z',\n",
       " 'fields': {'Message': \"''\",\n",
       "  'Timestamp': '2018-10-11T21:52:18.000Z',\n",
       "  'Total Packing': 0,\n",
       "  'Total Valves': 0,\n",
       "  'UnitNumber': ['recnTBfVMu4tLeG9C',\n",
       "   'recAmc1QoL0PHdEgS',\n",
       "   'reczfKU4v9EsMeb9f',\n",
       "   'rec4eNmStOqSEEAO0',\n",
       "   'recWgy2tjIb96ZMrP',\n",
       "   'recOZjuq0ie2cSg0A',\n",
       "   'reclSQnMug2ed080o',\n",
       "   'rec0wZfymqIJAAA8m',\n",
       "   'recDvU84pjG1K9NAi',\n",
       "   'reclCEya7y4UybalT',\n",
       "   'recPjVOOS7L9ucFfB',\n",
       "   'recEL1PsgwW2TC5rq',\n",
       "   'rec0sl8hNSnbV9XcC',\n",
       "   'recxlrvFEwtJC9UMH',\n",
       "   'recKuX44m8apfric1',\n",
       "   'recQ1jaRW7FpxTx0R',\n",
       "   'recm1qQQV793z08PM',\n",
       "   'recAQACCEuNVMi4ok',\n",
       "   'recyjOcyNZlELaFeA',\n",
       "   'recgAsMvwqyp8yXWE',\n",
       "   'recP2oq4D7oZ6qfQj',\n",
       "   'recUhFKhR6hCotLr6',\n",
       "   'recc3HFdtolAzycjJ',\n",
       "   'recCmubZdg9zxXRVF',\n",
       "   'recg3tJGKrOTuYpj0',\n",
       "   'recjtf9SiYr3PuILV',\n",
       "   'rec4NMNenlFyZjrMd',\n",
       "   'recAvNKg8lm710xQM',\n",
       "   'rec8RPnWrjrYb4Hr4',\n",
       "   'recqZgAp8a02HBukk',\n",
       "   'reczU4wGeyH4raQAb',\n",
       "   'rec7eEwR7GsgULvrf',\n",
       "   'reckqzAQsaenzDIto',\n",
       "   'recBGUMN7eaY0Iwiz',\n",
       "   'recmDE6A5otvjuzxs',\n",
       "   'recVZn1RjiQ1kR7vT',\n",
       "   'recpj46freeTnnxnT',\n",
       "   'recup4BtsEHJnBl0l',\n",
       "   'rec9PKdvujDjcWcir'],\n",
       "  'maintenance_id': \"''\"},\n",
       " 'id': 'recBZ4ny0VlLUFvwS'}"
      ]
     },
     "execution_count": 34,
     "metadata": {},
     "output_type": "execute_result"
    }
   ],
   "source": [
    "maintenance.get('recBZ4ny0VlLUFvwS')\n"
   ]
  },
  {
   "cell_type": "code",
   "execution_count": null,
   "metadata": {},
   "outputs": [],
   "source": [
    "final = list(map(lambda x: x['fields']['Name'], treaters.get_all()))"
   ]
  },
  {
   "cell_type": "code",
   "execution_count": null,
   "metadata": {},
   "outputs": [],
   "source": [
    "final"
   ]
  },
  {
   "cell_type": "code",
   "execution_count": null,
   "metadata": {},
   "outputs": [],
   "source": [
    "list(map(lambda x: (x.lower(), x), final))"
   ]
  },
  {
   "cell_type": "code",
   "execution_count": null,
   "metadata": {},
   "outputs": [],
   "source": []
  }
 ],
 "metadata": {
  "kernelspec": {
   "display_name": "Environment (conda_anaconda3)",
   "language": "python",
   "name": "conda_anaconda3"
  },
  "language_info": {
   "codemirror_mode": {
    "name": "ipython",
    "version": 3
   },
   "file_extension": ".py",
   "mimetype": "text/x-python",
   "name": "python",
   "nbconvert_exporter": "python",
   "pygments_lexer": "ipython3",
   "version": "3.6.4"
  }
 },
 "nbformat": 4,
 "nbformat_minor": 2
}
