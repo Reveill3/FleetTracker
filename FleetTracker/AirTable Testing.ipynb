{
 "cells": [
  {
   "cell_type": "code",
   "execution_count": 1,
   "metadata": {},
   "outputs": [],
   "source": [
    "from airtable import Airtable"
   ]
  },
  {
   "cell_type": "code",
   "execution_count": 2,
   "metadata": {},
   "outputs": [],
   "source": [
    "equipment = Airtable(base_key='appUv95IdpXpBkJ96',table_name='Equipment', api_key='keyVE2OTPcmyTURGm')\n",
    "maintenance = Airtable(base_key='appUv95IdpXpBkJ96',table_name='Maintenance', api_key='keyVE2OTPcmyTURGm')\n",
    "movement = Airtable(base_key='appUv95IdpXpBkJ96',table_name='Movement', api_key='keyVE2OTPcmyTURGm')"
   ]
  },
  {
   "cell_type": "code",
   "execution_count": 35,
   "metadata": {},
   "outputs": [],
   "source": [
    "def create_list(crew, equipment_type):\n",
    "    \"\"\" Populates list of unit numbers for users crew or admins selected crew. This is used to populate form choices \"\"\"\n",
    "    color_filter = equipment.search(\"Crew\", crew)\n",
    "    equipment_filter = list(filter(lambda e: e['fields']['Type'] == equipment_type, color_filter))\n",
    "\n",
    "    equipment_list = []\n",
    "    for unit in equipment_filter:\n",
    "        equipment_list.append((unit['fields']['UnitNumber'], unit['fields']['Standby'], unit['fields']['Station'], unit['fields']['Maintenance'], unit['fields']['Movement']))\n",
    "    return equipment_list"
   ]
  },
  {
   "cell_type": "code",
   "execution_count": 36,
   "metadata": {},
   "outputs": [
    {
     "data": {
      "text/plain": [
       "[('53Q-11530', 'False', 12, ['recBZ4ny0VlLUFvwS'], ['rec568qfNj7wLUUXE']),\n",
       " ('53Q-11672', 'False', 1, ['rec8QBXZZFysLQMjj'], ['rec568qfNj7wLUUXE']),\n",
       " ('53Q-11573', 'False', 17, ['recBZ4ny0VlLUFvwS'], ['rec568qfNj7wLUUXE']),\n",
       " ('53Q-07203', 'False', 14, ['recBZ4ny0VlLUFvwS'], ['rec568qfNj7wLUUXE']),\n",
       " ('53T-06114', 'True', 26, ['recBZ4ny0VlLUFvwS'], ['rec568qfNj7wLUUXE']),\n",
       " ('53Q-11574', 'False', 3, ['recBZ4ny0VlLUFvwS'], ['rec568qfNj7wLUUXE']),\n",
       " ('53Q-11565', 'False', 13, ['recBZ4ny0VlLUFvwS'], ['rec568qfNj7wLUUXE']),\n",
       " ('53Q-11669', 'False', 19, ['recBZ4ny0VlLUFvwS'], ['rec568qfNj7wLUUXE']),\n",
       " ('53Q-07208', 'False', 9, ['recBZ4ny0VlLUFvwS'], ['rec568qfNj7wLUUXE']),\n",
       " ('53Q-11454', 'False', 23, ['recBZ4ny0VlLUFvwS'], ['rec568qfNj7wLUUXE']),\n",
       " ('53Q-11670', 'False', 6, ['recBZ4ny0VlLUFvwS'], ['rec568qfNj7wLUUXE']),\n",
       " ('53Q-11422', 'False', 22, ['recBZ4ny0VlLUFvwS'], ['rec568qfNj7wLUUXE']),\n",
       " ('53Q-11475', 'False', 7, ['recBZ4ny0VlLUFvwS'], ['rec568qfNj7wLUUXE']),\n",
       " ('53Q-11468', 'False', 21, ['recBZ4ny0VlLUFvwS'], ['rec568qfNj7wLUUXE']),\n",
       " ('53Q-11497', 'False', 8, ['recBZ4ny0VlLUFvwS'], ['rec568qfNj7wLUUXE']),\n",
       " ('53Q-11582', 'False', 10, ['recBZ4ny0VlLUFvwS'], ['rec568qfNj7wLUUXE']),\n",
       " ('53Q-11576', 'False', 5, ['recBZ4ny0VlLUFvwS'], ['rec568qfNj7wLUUXE']),\n",
       " ('53Q-11471', 'False', 11, ['recBZ4ny0VlLUFvwS'], ['rec568qfNj7wLUUXE']),\n",
       " ('53Q-11578', 'False', 18, ['recBZ4ny0VlLUFvwS'], ['rec568qfNj7wLUUXE']),\n",
       " ('53Q-08330', 'True', 25, ['recBZ4ny0VlLUFvwS'], ['rec568qfNj7wLUUXE']),\n",
       " ('53Q-11424', 'False', 20, ['recBZ4ny0VlLUFvwS'], ['rec568qfNj7wLUUXE']),\n",
       " ('53Q-11571', 'False', 2, ['recBZ4ny0VlLUFvwS'], ['rec568qfNj7wLUUXE']),\n",
       " ('53Q-11673', 'False', 15, ['recBZ4ny0VlLUFvwS'], ['rec568qfNj7wLUUXE']),\n",
       " ('53Q-07204', 'False', 24, ['recBZ4ny0VlLUFvwS'], ['rec568qfNj7wLUUXE']),\n",
       " ('53Q-11451', 'False', 4, ['recBZ4ny0VlLUFvwS'], ['rec568qfNj7wLUUXE']),\n",
       " ('53Q-12680', 'False', 16, ['recBZ4ny0VlLUFvwS'], ['rec568qfNj7wLUUXE'])]"
      ]
     },
     "execution_count": 36,
     "metadata": {},
     "output_type": "execute_result"
    }
   ],
   "source": [
    "create_list('red', 'pump')"
   ]
  },
  {
   "cell_type": "raw",
   "metadata": {},
   "source": [
    "crews.get_all()"
   ]
  },
  {
   "cell_type": "code",
   "execution_count": 3,
   "metadata": {},
   "outputs": [
    {
     "data": {
      "text/plain": [
       "[{'createdTime': '2018-09-17T22:41:51.000Z',\n",
       "  'fields': {'Crew': ['recq5fVEGnFBUHhzS'],\n",
       "   'Fluid End Failures': ['recYujegSFhx90IN6',\n",
       "    'recbnySXl6uwoL0Bf',\n",
       "    'recZsZL3kQlq2IxZV',\n",
       "    'recFlYVcYbOyjK9zs',\n",
       "    'recGEiuoo59roEBVX',\n",
       "    'rec0htWK8qQPrl9er',\n",
       "    'recF3eoO9rTwJraRw'],\n",
       "   'Maintenance': ['rec8QBXZZFysLQMjj',\n",
       "    'recM3ZBvxo2mgEPJW',\n",
       "    'recgD2lTDiQVdRJG6'],\n",
       "   'Movement': ['rec568qfNj7wLUUXE'],\n",
       "   'Standby': 'True',\n",
       "   'Station': 18,\n",
       "   'Type': 'pump',\n",
       "   'UnitNumber': '53Q-11672',\n",
       "   'hole_1_life': [1300, 1300, 1100]},\n",
       "  'id': 'rec4Pqs9uCDUOSCnJ'}]"
      ]
     },
     "execution_count": 3,
     "metadata": {},
     "output_type": "execute_result"
    }
   ],
   "source": [
    "equipment.search('UnitNumber', '53Q-11672')\n"
   ]
  },
  {
   "cell_type": "code",
   "execution_count": 8,
   "metadata": {},
   "outputs": [
    {
     "data": {
      "text/plain": [
       "'2'"
      ]
     },
     "execution_count": 8,
     "metadata": {},
     "output_type": "execute_result"
    }
   ],
   "source": [
    "maintenance.get('rec8QBXZZFysLQMjj')['fields']['Hole']"
   ]
  },
  {
   "cell_type": "code",
   "execution_count": null,
   "metadata": {},
   "outputs": [],
   "source": [
    "final"
   ]
  },
  {
   "cell_type": "code",
   "execution_count": null,
   "metadata": {},
   "outputs": [],
   "source": [
    "list(map(lambda x: (x.lower(), x), final))"
   ]
  },
  {
   "cell_type": "code",
   "execution_count": null,
   "metadata": {},
   "outputs": [],
   "source": []
  }
 ],
 "metadata": {
  "kernelspec": {
   "display_name": "Environment (conda_anaconda3)",
   "language": "python",
   "name": "conda_anaconda3"
  },
  "language_info": {
   "codemirror_mode": {
    "name": "ipython",
    "version": 3
   },
   "file_extension": ".py",
   "mimetype": "text/x-python",
   "name": "python",
   "nbconvert_exporter": "python",
   "pygments_lexer": "ipython3",
   "version": "3.6.4"
  }
 },
 "nbformat": 4,
 "nbformat_minor": 2
}
