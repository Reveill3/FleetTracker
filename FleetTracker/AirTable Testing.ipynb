{
 "cells": [
  {
   "cell_type": "code",
   "execution_count": 2,
   "metadata": {},
   "outputs": [],
   "source": [
    "from airtable import Airtable"
   ]
  },
  {
   "cell_type": "code",
   "execution_count": 3,
   "metadata": {},
   "outputs": [],
   "source": [
    "equipment = Airtable(base_key='appUv95IdpXpBkJ96',table_name='Equipment', api_key='keyVE2OTPcmyTURGm')\n",
    "maintenance = Airtable(base_key='appUv95IdpXpBkJ96',table_name='Maintenance', api_key='keyVE2OTPcmyTURGm')\n",
    "movement = Airtable(base_key='appUv95IdpXpBkJ96',table_name='Movement', api_key='keyVE2OTPcmyTURGm')\n",
    "crews = Airtable(base_key='appUv95IdpXpBkJ96',table_name='Crews', api_key='keyVE2OTPcmyTURGm')"
   ]
  },
  {
   "cell_type": "code",
   "execution_count": 35,
   "metadata": {},
   "outputs": [],
   "source": [
    "def create_list(crew, equipment_type):\n",
    "    \"\"\" Populates list of unit numbers for users crew or admins selected crew. This is used to populate form choices \"\"\"\n",
    "    color_filter = equipment.search(\"Crew\", crew)\n",
    "    equipment_filter = list(filter(lambda e: e['fields']['Type'] == equipment_type, color_filter))\n",
    "\n",
    "    equipment_list = []\n",
    "    for unit in equipment_filter:\n",
    "        equipment_list.append((unit['fields']['UnitNumber'], unit['fields']['Standby'], unit['fields']['Station'], unit['fields']['Maintenance'], unit['fields']['Movement']))\n",
    "    return equipment_list"
   ]
  },
  {
   "cell_type": "code",
   "execution_count": 36,
   "metadata": {},
   "outputs": [
    {
     "data": {
      "text/plain": [
       "[('53Q-11530', 'False', 12, ['recBZ4ny0VlLUFvwS'], ['rec568qfNj7wLUUXE']),\n",
       " ('53Q-11672', 'False', 1, ['rec8QBXZZFysLQMjj'], ['rec568qfNj7wLUUXE']),\n",
       " ('53Q-11573', 'False', 17, ['recBZ4ny0VlLUFvwS'], ['rec568qfNj7wLUUXE']),\n",
       " ('53Q-07203', 'False', 14, ['recBZ4ny0VlLUFvwS'], ['rec568qfNj7wLUUXE']),\n",
       " ('53T-06114', 'True', 26, ['recBZ4ny0VlLUFvwS'], ['rec568qfNj7wLUUXE']),\n",
       " ('53Q-11574', 'False', 3, ['recBZ4ny0VlLUFvwS'], ['rec568qfNj7wLUUXE']),\n",
       " ('53Q-11565', 'False', 13, ['recBZ4ny0VlLUFvwS'], ['rec568qfNj7wLUUXE']),\n",
       " ('53Q-11669', 'False', 19, ['recBZ4ny0VlLUFvwS'], ['rec568qfNj7wLUUXE']),\n",
       " ('53Q-07208', 'False', 9, ['recBZ4ny0VlLUFvwS'], ['rec568qfNj7wLUUXE']),\n",
       " ('53Q-11454', 'False', 23, ['recBZ4ny0VlLUFvwS'], ['rec568qfNj7wLUUXE']),\n",
       " ('53Q-11670', 'False', 6, ['recBZ4ny0VlLUFvwS'], ['rec568qfNj7wLUUXE']),\n",
       " ('53Q-11422', 'False', 22, ['recBZ4ny0VlLUFvwS'], ['rec568qfNj7wLUUXE']),\n",
       " ('53Q-11475', 'False', 7, ['recBZ4ny0VlLUFvwS'], ['rec568qfNj7wLUUXE']),\n",
       " ('53Q-11468', 'False', 21, ['recBZ4ny0VlLUFvwS'], ['rec568qfNj7wLUUXE']),\n",
       " ('53Q-11497', 'False', 8, ['recBZ4ny0VlLUFvwS'], ['rec568qfNj7wLUUXE']),\n",
       " ('53Q-11582', 'False', 10, ['recBZ4ny0VlLUFvwS'], ['rec568qfNj7wLUUXE']),\n",
       " ('53Q-11576', 'False', 5, ['recBZ4ny0VlLUFvwS'], ['rec568qfNj7wLUUXE']),\n",
       " ('53Q-11471', 'False', 11, ['recBZ4ny0VlLUFvwS'], ['rec568qfNj7wLUUXE']),\n",
       " ('53Q-11578', 'False', 18, ['recBZ4ny0VlLUFvwS'], ['rec568qfNj7wLUUXE']),\n",
       " ('53Q-08330', 'True', 25, ['recBZ4ny0VlLUFvwS'], ['rec568qfNj7wLUUXE']),\n",
       " ('53Q-11424', 'False', 20, ['recBZ4ny0VlLUFvwS'], ['rec568qfNj7wLUUXE']),\n",
       " ('53Q-11571', 'False', 2, ['recBZ4ny0VlLUFvwS'], ['rec568qfNj7wLUUXE']),\n",
       " ('53Q-11673', 'False', 15, ['recBZ4ny0VlLUFvwS'], ['rec568qfNj7wLUUXE']),\n",
       " ('53Q-07204', 'False', 24, ['recBZ4ny0VlLUFvwS'], ['rec568qfNj7wLUUXE']),\n",
       " ('53Q-11451', 'False', 4, ['recBZ4ny0VlLUFvwS'], ['rec568qfNj7wLUUXE']),\n",
       " ('53Q-12680', 'False', 16, ['recBZ4ny0VlLUFvwS'], ['rec568qfNj7wLUUXE'])]"
      ]
     },
     "execution_count": 36,
     "metadata": {},
     "output_type": "execute_result"
    }
   ],
   "source": [
    "create_list('red', 'pump')"
   ]
  },
  {
   "cell_type": "raw",
   "metadata": {},
   "source": [
    "crews.get_all()"
   ]
  },
  {
   "cell_type": "code",
   "execution_count": 3,
   "metadata": {},
   "outputs": [
    {
     "data": {
      "text/plain": [
       "[{'createdTime': '2018-09-17T22:41:51.000Z',\n",
       "  'fields': {'Crew': ['recq5fVEGnFBUHhzS'],\n",
       "   'Fluid End Failures': ['recYujegSFhx90IN6',\n",
       "    'recbnySXl6uwoL0Bf',\n",
       "    'recZsZL3kQlq2IxZV',\n",
       "    'recFlYVcYbOyjK9zs',\n",
       "    'recGEiuoo59roEBVX',\n",
       "    'rec0htWK8qQPrl9er',\n",
       "    'recF3eoO9rTwJraRw'],\n",
       "   'Maintenance': ['rec8QBXZZFysLQMjj',\n",
       "    'recM3ZBvxo2mgEPJW',\n",
       "    'recgD2lTDiQVdRJG6'],\n",
       "   'Movement': ['rec568qfNj7wLUUXE'],\n",
       "   'Standby': 'True',\n",
       "   'Station': 18,\n",
       "   'Type': 'pump',\n",
       "   'UnitNumber': '53Q-11672',\n",
       "   'hole_1_life': [1300, 1300, 1100]},\n",
       "  'id': 'rec4Pqs9uCDUOSCnJ'}]"
      ]
     },
     "execution_count": 3,
     "metadata": {},
     "output_type": "execute_result"
    }
   ],
   "source": [
    "equipment.search('UnitNumber', '53Q-11672')\n"
   ]
  },
  {
   "cell_type": "code",
   "execution_count": 8,
   "metadata": {},
   "outputs": [
    {
     "data": {
      "text/plain": [
       "'2'"
      ]
     },
     "execution_count": 8,
     "metadata": {},
     "output_type": "execute_result"
    }
   ],
   "source": [
    "maintenance.get('rec8QBXZZFysLQMjj')['fields']['Hole']"
   ]
  },
  {
   "cell_type": "code",
   "execution_count": null,
   "metadata": {},
   "outputs": [],
   "source": [
    "final"
   ]
  },
  {
   "cell_type": "code",
   "execution_count": null,
   "metadata": {},
   "outputs": [],
   "source": [
    "list(map(lambda x: (x.lower(), x), final))"
   ]
  },
  {
   "cell_type": "code",
   "execution_count": 4,
   "metadata": {},
   "outputs": [
    {
     "data": {
      "text/plain": [
       "[{'createdTime': '2018-10-10T23:21:17.000Z',\n",
       "  'fields': {'Equipment': ['rec1MtDnvRl83MYMH',\n",
       "    'rec9hRp5fc07pNWvw',\n",
       "    'rec1o6JNtE6LaHxJy',\n",
       "    'recBQMZ5CU06a00XM',\n",
       "    'reci15m71gFEMtrhi'],\n",
       "   'Name': 'pending'},\n",
       "  'id': 'rec0Q6Z9R2isNg34V'},\n",
       " {'createdTime': '2018-10-09T20:01:01.000Z',\n",
       "  'fields': {'Equipment': ['recbkpe0Xp8A6tjCF',\n",
       "    'recMENYtw9VawAiLQ',\n",
       "    'recNYuGhZKQHwT16D',\n",
       "    'recUHJ3wR9u4aYpsL',\n",
       "    'rec7JsdOBZpYqMRIP',\n",
       "    'recLxbpGeMnI8U7fo',\n",
       "    'recHfahIsFuOw5rND',\n",
       "    'recMM44484RezJWDM',\n",
       "    'recRpWvBb9kkW62WN',\n",
       "    'recDG4MSsQ63GXlqV',\n",
       "    'recLWhkVb1wehQOYb',\n",
       "    'rectkcR4arCOPvGHt',\n",
       "    'recKq9M9dOBLNwCg9',\n",
       "    'recQ2FSxwi93SYaJv',\n",
       "    'recadXhQ3zhwqdZYe',\n",
       "    'rec8gG8bsE6J16zNs',\n",
       "    'rech83VQ9jFqbhJiy',\n",
       "    'recEu3sIfUWqV3FRh'],\n",
       "   'Name': 'blue'},\n",
       "  'id': 'recFJQK7ETq0AmPQl'},\n",
       " {'createdTime': '2018-10-11T15:02:28.000Z',\n",
       "  'fields': {'Name': 'gold'},\n",
       "  'id': 'recdf5ccGBdkP9nHg'},\n",
       " {'createdTime': '2018-10-09T20:01:01.000Z',\n",
       "  'fields': {'Equipment': ['reccnrYNjvc9R0NfU',\n",
       "    'rec1gdUnb87TKvWnh',\n",
       "    'recMTAlLXpM6S7cUG',\n",
       "    'recau3KhxjSGMIbLl',\n",
       "    'recf3KTX41TQunKF8',\n",
       "    'recBEKRxevdKqpYWN',\n",
       "    'reci0Gjyb7Nc1oheq',\n",
       "    'recleyQqjWx8DsOpz',\n",
       "    'rec3ymPbtboyjCG78',\n",
       "    'recD78BxfFxChyx8V',\n",
       "    'recMbO4VjeBOz04rF',\n",
       "    'reckHKiLCLbeUCih2',\n",
       "    'recvrP3VmHJnjX9lz',\n",
       "    'recTaWcpOsOVmbNQK',\n",
       "    'reczN3EXKhw526ENo',\n",
       "    'reclCEya7y4UybalT',\n",
       "    'recPjVOOS7L9ucFfB'],\n",
       "   'Movement': ['recFi5YTd3sqZE0wJ'],\n",
       "   'Name': 'green'},\n",
       "  'id': 'recpKW7GFncVrHprG'},\n",
       " {'createdTime': '2018-10-09T20:01:01.000Z',\n",
       "  'fields': {'Equipment': ['recOZjuq0ie2cSg0A',\n",
       "    'recDvU84pjG1K9NAi',\n",
       "    'recjtf9SiYr3PuILV',\n",
       "    'recAvNKg8lm710xQM',\n",
       "    'rec8RPnWrjrYb4Hr4',\n",
       "    'recqZgAp8a02HBukk',\n",
       "    'reczU4wGeyH4raQAb',\n",
       "    'reckqzAQsaenzDIto',\n",
       "    'recBGUMN7eaY0Iwiz',\n",
       "    'recmDE6A5otvjuzxs',\n",
       "    'recVZn1RjiQ1kR7vT',\n",
       "    'recpj46freeTnnxnT',\n",
       "    'recup4BtsEHJnBl0l',\n",
       "    'rec9PKdvujDjcWcir',\n",
       "    'recc3HFdtolAzycjJ',\n",
       "    'recCmubZdg9zxXRVF',\n",
       "    'recQ1jaRW7FpxTx0R',\n",
       "    'recxlrvFEwtJC9UMH',\n",
       "    'reclSQnMug2ed080o',\n",
       "    'rec0wZfymqIJAAA8m',\n",
       "    'recnTBfVMu4tLeG9C',\n",
       "    'recAmc1QoL0PHdEgS',\n",
       "    'reczfKU4v9EsMeb9f',\n",
       "    'recWgy2tjIb96ZMrP',\n",
       "    'rec4eNmStOqSEEAO0',\n",
       "    'rec4NMNenlFyZjrMd',\n",
       "    'rec7eEwR7GsgULvrf',\n",
       "    'recg3tJGKrOTuYpj0',\n",
       "    'rec4Pqs9uCDUOSCnJ'],\n",
       "   'Maintenance': ['rec8QBXZZFysLQMjj',\n",
       "    'recM3ZBvxo2mgEPJW',\n",
       "    'recgD2lTDiQVdRJG6',\n",
       "    'recEQ3LdvPhh5muHI',\n",
       "    'rec2hWOdlATFcOV08',\n",
       "    'recUWfGTCxVkghpRh',\n",
       "    'recHct1qdcRR74HIT',\n",
       "    'recHTZBcvnTpRWRYY',\n",
       "    'reciLVzVbcigj1XAl',\n",
       "    'recWENS9xRouZNxcm',\n",
       "    'rec2wF3ozh2nxkril',\n",
       "    'recjFLGInPd6dv6rz',\n",
       "    'recUxM8ThbySPplpD',\n",
       "    'recWCGMHzKIChMkIV'],\n",
       "   'Movement 2': ['recFi5YTd3sqZE0wJ'],\n",
       "   'Name': 'red'},\n",
       "  'id': 'recq5fVEGnFBUHhzS'},\n",
       " {'createdTime': '2018-10-09T20:01:12.000Z',\n",
       "  'fields': {'Equipment': ['recd1slzpV3A0Sxdd',\n",
       "    'recrFmw4afYWfQaqk',\n",
       "    'recXXt7tm6U5CJPet',\n",
       "    'recnSDoYXVsDeYIFg',\n",
       "    'reckEkUQukV9FAwae',\n",
       "    'recJyANSydPICPUDn',\n",
       "    'rechjWtcqxfecddqZ',\n",
       "    'recVSj3KyUlHb3G0k',\n",
       "    'recFsgprvUdwDVBq0',\n",
       "    'recdrDJRxovCke8n5',\n",
       "    'recP4vO3rIERMmqsU',\n",
       "    'recnbKPncdTFevMON',\n",
       "    'rec4QyCfw9wN1s2fe',\n",
       "    'recPlX4zDwYkaMcGn',\n",
       "    'recLwvxgIkzBs5OSz',\n",
       "    'recJabHEr4IkAR5LF'],\n",
       "   'Name': 'onyx'},\n",
       "  'id': 'recthKqHDjMGUla4A'}]"
      ]
     },
     "execution_count": 4,
     "metadata": {},
     "output_type": "execute_result"
    }
   ],
   "source": [
    "crews.get_all()"
   ]
  },
  {
   "cell_type": "code",
   "execution_count": null,
   "metadata": {},
   "outputs": [],
   "source": []
  }
 ],
 "metadata": {
  "kernelspec": {
   "display_name": "Environment (conda_anaconda3)",
   "language": "python",
   "name": "conda_anaconda3"
  },
  "language_info": {
   "codemirror_mode": {
    "name": "ipython",
    "version": 3
   },
   "file_extension": ".py",
   "mimetype": "text/x-python",
   "name": "python",
   "nbconvert_exporter": "python",
   "pygments_lexer": "ipython3",
   "version": "3.6.4"
  }
 },
 "nbformat": 4,
 "nbformat_minor": 2
}
